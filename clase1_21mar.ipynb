{
 "cells": [
  {
   "cell_type": "markdown",
   "id": "46f04beb",
   "metadata": {},
   "source": [
    "# El Arte de la Analítica\n",
    "\n",
    "\n",
    "\n"
   ]
  },
  {
   "cell_type": "markdown",
   "id": "67084f1b",
   "metadata": {},
   "source": [
    "1. Escribir una función de Python que encuentre los números primos en los primeros N números naturales. N es el argumento de la función Llamar la función desde el código principal.\n",
    "2. Escribir una función de Python que encuentre el producto cruz en vectores de 3 componentes. La función recibe do slistas (vectores) La función regresa un tercer vector (lista) con el resultado Llamar a la función desde el código principal.\n",
    "3. Re-escribir el problema 2, pero ahora los vectores son leídos desde un archivo de texto.\n",
    "\n"
   ]
  },
  {
   "cell_type": "code",
   "execution_count": 48,
   "id": "0d82b54b",
   "metadata": {},
   "outputs": [],
   "source": [
    "import math\n",
    "def findPrimes(n):\n",
    "    primes = []\n",
    "    # Ver residuo, usa % para ver si da 0 el residuo\n",
    "    for i in range(2, n+1):\n",
    "        isPrime = True\n",
    "        limit = int(math.sqrt(i))\n",
    "        for test in range(2, limit+1):\n",
    "            if i % test == 0:\n",
    "                isPrime = False\n",
    "        if isPrime:\n",
    "            primes.append(i)\n",
    "    return primes\n",
    "\n",
    "                \n",
    "                    \n",
    "    original = [k for k in range(1, N+1)]"
   ]
  },
  {
   "cell_type": "code",
   "execution_count": 49,
   "id": "b0b4d8ca",
   "metadata": {},
   "outputs": [
    {
     "name": "stdout",
     "output_type": "stream",
     "text": [
      "[2, 3, 5, 7, 11, 13, 17, 19, 23, 29, 31, 37, 41, 43, 47, 53, 59, 61, 67, 71, 73, 79, 83, 89, 97]\n"
     ]
    }
   ],
   "source": [
    "print (findPrimes(100))"
   ]
  },
  {
   "cell_type": "code",
   "execution_count": 50,
   "id": "13ac1da7",
   "metadata": {},
   "outputs": [],
   "source": [
    "def crossProductA(a, b):\n",
    "    # a = (ax, ay, az)\n",
    "    # b = (bx, by, bz)\n",
    "    # axb = (ay*bz - az*by, az*bx - ax*bz, ax*by - ay*bx)\n",
    "    # x = 0\n",
    "    # y = 1\n",
    "    # y = 1\n",
    "    product = [a[1]*b[2] - a[2]*b[1] , a[2]*b[0] - a[0]*b[2], a[0]*b[1] - a[1]*b[0]]\n",
    "    return product\n"
   ]
  },
  {
   "cell_type": "code",
   "execution_count": 51,
   "id": "f98616f4",
   "metadata": {},
   "outputs": [
    {
     "name": "stdout",
     "output_type": "stream",
     "text": [
      "[0, 0, 1]\n"
     ]
    }
   ],
   "source": [
    "vectorA = [1, 0, 0]\n",
    "vectorB = [0, 1 , 0]\n",
    "produtoCruz = crossProductA(vectorA, vectorB)\n",
    "print(produtoCruz)"
   ]
  },
  {
   "cell_type": "code",
   "execution_count": 1,
   "id": "d62eebd9",
   "metadata": {},
   "outputs": [],
   "source": [
    "def crossProductB():\n",
    "    file = open(\"vectors.txt\", \"r\")\n",
    "    linea1 = file.readline().strip()\n",
    "    linea2 = file.readline().strip()\n",
    "    file.close\n",
    "    vector1 = linea1.split(\",\")\n",
    "    vector2 = linea2.split(\",\")\n",
    "    for i in range(3):\n",
    "        vector1 [i] = float(vector1[i])\n",
    "        vector2 [i] = float(vector2[i])\n",
    "    print (vector1)\n",
    "    print (vector2)\n",
    "    product = crossProductA(vector1, vector2)\n",
    "    return product"
   ]
  },
  {
   "cell_type": "code",
   "execution_count": 2,
   "id": "22761f11",
   "metadata": {},
   "outputs": [
    {
     "name": "stdout",
     "output_type": "stream",
     "text": [
      "[13.45, 20.67, -15.0821]\n",
      "[-5.012, -40.333, 12.874]\n"
     ]
    },
    {
     "ename": "NameError",
     "evalue": "name 'crossProductA' is not defined",
     "output_type": "error",
     "traceback": [
      "\u001b[0;31m---------------------------------------------------------------------------\u001b[0m",
      "\u001b[0;31mNameError\u001b[0m                                 Traceback (most recent call last)",
      "Cell \u001b[0;32mIn[2], line 1\u001b[0m\n\u001b[0;32m----> 1\u001b[0m \u001b[38;5;28mprint\u001b[39m(\u001b[43mcrossProductB\u001b[49m\u001b[43m(\u001b[49m\u001b[43m)\u001b[49m)\n",
      "Cell \u001b[0;32mIn[1], line 13\u001b[0m, in \u001b[0;36mcrossProductB\u001b[0;34m()\u001b[0m\n\u001b[1;32m     11\u001b[0m \u001b[38;5;28mprint\u001b[39m (vector1)\n\u001b[1;32m     12\u001b[0m \u001b[38;5;28mprint\u001b[39m (vector2)\n\u001b[0;32m---> 13\u001b[0m product \u001b[38;5;241m=\u001b[39m \u001b[43mcrossProductA\u001b[49m(vector1, vector2)\n\u001b[1;32m     14\u001b[0m \u001b[38;5;28;01mreturn\u001b[39;00m product\n",
      "\u001b[0;31mNameError\u001b[0m: name 'crossProductA' is not defined"
     ]
    }
   ],
   "source": [
    "print(crossProductB())"
   ]
  },
  {
   "cell_type": "markdown",
   "id": "3ae6d695",
   "metadata": {},
   "source": [
    "## Cargando datos con pandas\n"
   ]
  },
  {
   "cell_type": "code",
   "execution_count": null,
   "id": "5a60ce8b",
   "metadata": {},
   "outputs": [],
   "source": [
    "import os\n",
    "print(os.getcwd())"
   ]
  },
  {
   "cell_type": "code",
   "execution_count": null,
   "id": "34757430",
   "metadata": {},
   "outputs": [],
   "source": [
    "import pandas as pd\n",
    "import os\n",
    "os.getcwd()"
   ]
  },
  {
   "cell_type": "code",
   "execution_count": null,
   "id": "3629e001",
   "metadata": {},
   "outputs": [],
   "source": [
    "# pd.read_csv('avocado.csv')\n",
    "df = pd.read_csv('avocado.csv')\n",
    "df.head()"
   ]
  },
  {
   "cell_type": "markdown",
   "id": "6e668bd9",
   "metadata": {},
   "source": []
  },
  {
   "cell_type": "code",
   "execution_count": null,
   "id": "47095cc8",
   "metadata": {},
   "outputs": [],
   "source": []
  },
  {
   "cell_type": "code",
   "execution_count": null,
   "id": "e95e1659",
   "metadata": {},
   "outputs": [],
   "source": []
  },
  {
   "cell_type": "code",
   "execution_count": null,
   "id": "03120795",
   "metadata": {},
   "outputs": [],
   "source": []
  },
  {
   "cell_type": "code",
   "execution_count": null,
   "id": "9bbacfb6",
   "metadata": {},
   "outputs": [],
   "source": []
  },
  {
   "cell_type": "code",
   "execution_count": null,
   "id": "952e9fb7",
   "metadata": {},
   "outputs": [],
   "source": []
  },
  {
   "cell_type": "code",
   "execution_count": null,
   "id": "49b98099",
   "metadata": {},
   "outputs": [],
   "source": []
  },
  {
   "cell_type": "code",
   "execution_count": null,
   "id": "56c43424",
   "metadata": {},
   "outputs": [],
   "source": [
    "\n",
    "\n"
   ]
  },
  {
   "cell_type": "code",
   "execution_count": null,
   "id": "36d9a8de",
   "metadata": {},
   "outputs": [],
   "source": []
  },
  {
   "cell_type": "code",
   "execution_count": null,
   "id": "4b6bd8d1",
   "metadata": {},
   "outputs": [],
   "source": []
  },
  {
   "cell_type": "code",
   "execution_count": null,
   "id": "50f26776",
   "metadata": {},
   "outputs": [],
   "source": []
  }
 ],
 "metadata": {
  "kernelspec": {
   "display_name": "Python 3 (ipykernel)",
   "language": "python",
   "name": "python3"
  },
  "language_info": {
   "codemirror_mode": {
    "name": "ipython",
    "version": 3
   },
   "file_extension": ".py",
   "mimetype": "text/x-python",
   "name": "python",
   "nbconvert_exporter": "python",
   "pygments_lexer": "ipython3",
   "version": "3.10.9"
  }
 },
 "nbformat": 4,
 "nbformat_minor": 5
}
