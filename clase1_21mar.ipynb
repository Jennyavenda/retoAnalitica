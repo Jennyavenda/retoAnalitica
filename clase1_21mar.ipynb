{
 "cells": [
  {
   "cell_type": "markdown",
   "id": "46f04beb",
   "metadata": {},
   "source": [
    "# El Arte de la Analítica\n",
    "\n",
    "\n",
    "\n"
   ]
  },
  {
   "cell_type": "markdown",
   "id": "67084f1b",
   "metadata": {},
   "source": [
    "1. Escribir una función de Python que encuentre los números primos en los primeros N números naturales. N es el argumento de la función Llamar la función desde el código principal.\n",
    "2. Escribir una función de Python que encuentre el producto cruz en vectores de 3 componentes. La función recibe do slistas (vectores) La función regresa un tercer vector (lista) con el resultado Llamar a la función desde el código principal.\n",
    "3. Re-escribir el problema 2, pero ahora los vectores son leídos desde un archivo de texto.\n",
    "\n"
   ]
  },
  {
   "cell_type": "code",
   "execution_count": 8,
   "id": "0d82b54b",
   "metadata": {},
   "outputs": [],
   "source": [
    "import math\n",
    "def findPrimes(n):\n",
    "    primes = []\n",
    "    # Ver residuo, usa % para ver si da 0 el residuo\n",
    "    for i in range(2, n+1):\n",
    "        isPrime = True\n",
    "        limit = int(math.sqrt(i))\n",
    "        for test in range(2, limit+1):\n",
    "            if i % test == 0:\n",
    "                isPrime = False\n",
    "        if isPrime:\n",
    "            primes.append(i)\n",
    "    return primes\n",
    "\n",
    "                \n",
    "                    \n",
    "    original = [k for k in range(1, N+1)]"
   ]
  },
  {
   "cell_type": "code",
   "execution_count": 9,
   "id": "b0b4d8ca",
   "metadata": {},
   "outputs": [
    {
     "name": "stdout",
     "output_type": "stream",
     "text": [
      "[2, 3, 5, 7, 11, 13, 17, 19, 23, 29, 31, 37, 41, 43, 47, 53, 59, 61, 67, 71, 73, 79, 83, 89, 97]\n"
     ]
    }
   ],
   "source": [
    "print (findPrimes(100))"
   ]
  },
  {
   "cell_type": "code",
   "execution_count": 11,
   "id": "13ac1da7",
   "metadata": {},
   "outputs": [],
   "source": [
    "def crossProductA(a, b):\n",
    "    # a = (ax, ay, az)\n",
    "    # b = (bx, by, bz)\n",
    "    # axb = (ay*bz - az*by, az*bx - ax*bz, ax*by - ay*bx)\n",
    "    # x = 0\n",
    "    # y = 1\n",
    "    # y = 1\n",
    "    product = [a[1]*b[2] - a[2]*b[1] , a[2]*b[0] - a[0]*b[2], a[0]*b[1] - a[1]*b[0]]\n",
    "    return product\n"
   ]
  },
  {
   "cell_type": "code",
   "execution_count": 15,
   "id": "f98616f4",
   "metadata": {},
   "outputs": [
    {
     "name": "stdout",
     "output_type": "stream",
     "text": [
      "[0, 0, 1]\n"
     ]
    }
   ],
   "source": [
    "vectorA = [1, 0, 0]\n",
    "vectorB = [0, 1 , 0]\n",
    "produtoCruz = crossProductA(vectorA, vectorB)\n",
    "print(produtoCruz)"
   ]
  },
  {
   "cell_type": "code",
   "execution_count": null,
   "id": "d62eebd9",
   "metadata": {},
   "outputs": [],
   "source": [
    "def crossProductB():\n",
    "    file = open(\"vectors.txt\", \"r\")\n",
    "    \n",
    "    return product"
   ]
  }
 ],
 "metadata": {
  "kernelspec": {
   "display_name": "Python 3 (ipykernel)",
   "language": "python",
   "name": "python3"
  },
  "language_info": {
   "codemirror_mode": {
    "name": "ipython",
    "version": 3
   },
   "file_extension": ".py",
   "mimetype": "text/x-python",
   "name": "python",
   "nbconvert_exporter": "python",
   "pygments_lexer": "ipython3",
   "version": "3.10.9"
  }
 },
 "nbformat": 4,
 "nbformat_minor": 5
}
